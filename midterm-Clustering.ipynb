{
 "cells": [
  {
   "cell_type": "markdown",
   "id": "b25f5fba-42b1-42d4-bb6c-6ad4237bb6f3",
   "metadata": {},
   "source": [
    "# **기계학습 중간과제: 클러스터링**\n",
    "**<div style=\"text-align: right\"> 202120990 김도환 </div>**\n",
    "\n",
    "* **목표:**\n",
    "    * 전기차 충전소 클러스터링을 통한 전기차 충전소 최적 위치 선정 \n",
    "\n",
    "분석의 목적은 도시 내 전기차 충전소의 위치와 이용 패턴을 파악하여, 전기차 충전소의 입지 선정\n",
    "\n",
    "\n",
    " \n",
    "* **사용데이터:**\n",
    "    * 한국환경공단에서 제공하는 전기차 충전소 위치 및 운영정보 데이터\n",
    "    * 한국환경공단에서 제공하는 환경부 전기차 충전기 충전량 상세정보 데이터\n"
   ]
  },
  {
   "cell_type": "code",
   "execution_count": 1,
   "id": "4fe9774a-ce5c-45fd-8296-87a4466b40e7",
   "metadata": {},
   "outputs": [],
   "source": [
    "import warnings\n",
    "warnings.filterwarnings('ignore')"
   ]
  },
  {
   "cell_type": "markdown",
   "id": "299b8205-d6d1-45a6-95cd-a01f0ca92769",
   "metadata": {},
   "source": [
    "## **1. CSV에서 데이터 불러오기**"
   ]
  },
  {
   "cell_type": "code",
   "execution_count": 2,
   "id": "63b34abd-4db5-4077-9b0b-06925e973213",
   "metadata": {},
   "outputs": [
    {
     "name": "stdout",
     "output_type": "stream",
     "text": [
      "========== 전기차 충전소 정보 ==========\n",
      "<class 'pandas.core.frame.DataFrame'>\n",
      "RangeIndex: 44580 entries, 0 to 44579\n",
      "Data columns (total 17 columns):\n",
      " #   Column   Non-Null Count  Dtype \n",
      "---  ------   --------------  ----- \n",
      " 0   설치년도     44580 non-null  int64 \n",
      " 1   시도       44580 non-null  object\n",
      " 2   군구       44499 non-null  object\n",
      " 3   주소       44580 non-null  object\n",
      " 4   충전소명     44580 non-null  object\n",
      " 5   시설구분(대)  44537 non-null  object\n",
      " 6   시설구분(소)  44580 non-null  object\n",
      " 7   기종(대)    44580 non-null  object\n",
      " 8   기종(소)    44580 non-null  object\n",
      " 9   운영기관(대)  44580 non-null  object\n",
      " 10  운영기관(소)  44580 non-null  object\n",
      " 11  급속충전량    348 non-null    object\n",
      " 12  충전기타입    44580 non-null  object\n",
      " 13  이용자제한    44580 non-null  object\n",
      " 14  충전기ID    44580 non-null  int64 \n",
      " 15  충전소ID    44580 non-null  object\n",
      " 16  위도경도     44574 non-null  object\n",
      "dtypes: int64(2), object(15)\n",
      "memory usage: 5.8+ MB\n",
      "None\n",
      "\n",
      "========== 전기차 충전소 충전량 ==========\n",
      "<class 'pandas.core.frame.DataFrame'>\n",
      "RangeIndex: 348 entries, 0 to 347\n",
      "Data columns (total 20 columns):\n",
      " #   Column          Non-Null Count  Dtype  \n",
      "---  ------          --------------  -----  \n",
      " 0   충전소ID           348 non-null    object \n",
      " 1   충전기ID           348 non-null    int64  \n",
      " 2   2023년 01월 충전횟수  348 non-null    int64  \n",
      " 3   2023년 01월 충전량   348 non-null    float64\n",
      " 4   2023년 02월 충전횟수  348 non-null    int64  \n",
      " 5   2023년 02월 충전량   348 non-null    float64\n",
      " 6   2023년 03월 충전횟수  348 non-null    int64  \n",
      " 7   2023년 03월 충전량   348 non-null    float64\n",
      " 8   2023년 04월 충전횟수  348 non-null    int64  \n",
      " 9   2023년 04월 충전량   348 non-null    float64\n",
      " 10  2023년 05월 충전횟수  348 non-null    int64  \n",
      " 11  2023년 05월 충전량   348 non-null    float64\n",
      " 12  2023년 06월 충전횟수  348 non-null    int64  \n",
      " 13  2023년 06월 충전량   348 non-null    float64\n",
      " 14  2023년 07월 충전횟수  348 non-null    int64  \n",
      " 15  2023년 07월 충전량   348 non-null    float64\n",
      " 16  2023년 08월 충전횟수  348 non-null    int64  \n",
      " 17  2023년 08월 충전량   348 non-null    float64\n",
      " 18  2023년 09월 충전횟수  348 non-null    int64  \n",
      " 19  2023년 09월 충전량   348 non-null    float64\n",
      "dtypes: float64(9), int64(10), object(1)\n",
      "memory usage: 54.5+ KB\n",
      "None\n"
     ]
    }
   ],
   "source": [
    "import pandas as pd\n",
    "\n",
    "charge_info_df = pd.read_csv(\"./data/한국환경공단_전기차 충전소 위치 및 운영정보.csv\", low_memory=False)\n",
    "charge_amount_df = pd.read_csv(\"./data/한국환경공단_환경부 전기차 충전기 충전량 상세정보.csv\", low_memory=False)\n",
    "print(\"========== 전기차 충전소 정보 ==========\")\n",
    "print(charge_info_df.info())\n",
    "print(\"\\n========== 전기차 충전소 충전량 ==========\")\n",
    "print(charge_amount_df.info())"
   ]
  },
  {
   "cell_type": "markdown",
   "id": "8855476c-b065-40a4-84b9-3d01713c456c",
   "metadata": {},
   "source": [
    "## **2. 데이터 전처리**\n",
    "### **2-1. 데이터 병합**\n",
    "\n",
    "전기차 충전소 정보에 대한 데이터 형식을 확인합니다."
   ]
  },
  {
   "cell_type": "code",
   "execution_count": 3,
   "id": "980764bc-7286-4c07-ab66-b168577c79e5",
   "metadata": {},
   "outputs": [
    {
     "data": {
      "text/html": [
       "<div>\n",
       "<style scoped>\n",
       "    .dataframe tbody tr th:only-of-type {\n",
       "        vertical-align: middle;\n",
       "    }\n",
       "\n",
       "    .dataframe tbody tr th {\n",
       "        vertical-align: top;\n",
       "    }\n",
       "\n",
       "    .dataframe thead th {\n",
       "        text-align: right;\n",
       "    }\n",
       "</style>\n",
       "<table border=\"1\" class=\"dataframe\">\n",
       "  <thead>\n",
       "    <tr style=\"text-align: right;\">\n",
       "      <th></th>\n",
       "      <th>설치년도</th>\n",
       "      <th>시도</th>\n",
       "      <th>군구</th>\n",
       "      <th>주소</th>\n",
       "      <th>충전소명</th>\n",
       "      <th>시설구분(대)</th>\n",
       "      <th>시설구분(소)</th>\n",
       "      <th>기종(대)</th>\n",
       "      <th>기종(소)</th>\n",
       "      <th>운영기관(대)</th>\n",
       "      <th>운영기관(소)</th>\n",
       "      <th>급속충전량</th>\n",
       "      <th>충전기타입</th>\n",
       "      <th>이용자제한</th>\n",
       "      <th>충전기ID</th>\n",
       "      <th>충전소ID</th>\n",
       "      <th>위도경도</th>\n",
       "    </tr>\n",
       "  </thead>\n",
       "  <tbody>\n",
       "    <tr>\n",
       "      <th>0</th>\n",
       "      <td>2017</td>\n",
       "      <td>서울특별시</td>\n",
       "      <td>강동구</td>\n",
       "      <td>서울특별시 강동구 고덕로28길 36</td>\n",
       "      <td>암사1동 공영주차장</td>\n",
       "      <td>주차시설</td>\n",
       "      <td>공영주차장</td>\n",
       "      <td>급속</td>\n",
       "      <td>급속(50kW)</td>\n",
       "      <td>환경부</td>\n",
       "      <td>환경부(협회)</td>\n",
       "      <td>급속(50kW)</td>\n",
       "      <td>DC차데모+AC3상+DC콤보</td>\n",
       "      <td>이용가능</td>\n",
       "      <td>1</td>\n",
       "      <td>ME174003</td>\n",
       "      <td>37.5529087,127.1372547</td>\n",
       "    </tr>\n",
       "  </tbody>\n",
       "</table>\n",
       "</div>"
      ],
      "text/plain": [
       "   설치년도     시도   군구                   주소        충전소명 시설구분(대) 시설구분(소) 기종(대)  \\\n",
       "0  2017  서울특별시  강동구  서울특별시 강동구 고덕로28길 36  암사1동 공영주차장    주차시설   공영주차장    급속   \n",
       "\n",
       "      기종(소) 운영기관(대)  운영기관(소)     급속충전량            충전기타입 이용자제한  충전기ID  \\\n",
       "0  급속(50kW)     환경부  환경부(협회)  급속(50kW)  DC차데모+AC3상+DC콤보  이용가능      1   \n",
       "\n",
       "      충전소ID                    위도경도  \n",
       "0  ME174003  37.5529087,127.1372547  "
      ]
     },
     "execution_count": 3,
     "metadata": {},
     "output_type": "execute_result"
    }
   ],
   "source": [
    "charge_info_df.head(1)"
   ]
  },
  {
   "cell_type": "markdown",
   "id": "c43193f9-297f-4d8c-85a2-219e63f18f9e",
   "metadata": {},
   "source": [
    "형태를 확인해보면 위도경도 데이터가 하나의 칼럼에 묶여있는 것을 알 수 있습니다.\n",
    "해당 칼럼을 위도 칼럼, 경도 칼럼으로 나누어줍니다."
   ]
  },
  {
   "cell_type": "code",
   "execution_count": 4,
   "id": "7d15080d-332d-4108-8b42-822fb620b13a",
   "metadata": {},
   "outputs": [
    {
     "data": {
      "text/html": [
       "<div>\n",
       "<style scoped>\n",
       "    .dataframe tbody tr th:only-of-type {\n",
       "        vertical-align: middle;\n",
       "    }\n",
       "\n",
       "    .dataframe tbody tr th {\n",
       "        vertical-align: top;\n",
       "    }\n",
       "\n",
       "    .dataframe thead th {\n",
       "        text-align: right;\n",
       "    }\n",
       "</style>\n",
       "<table border=\"1\" class=\"dataframe\">\n",
       "  <thead>\n",
       "    <tr style=\"text-align: right;\">\n",
       "      <th></th>\n",
       "      <th>설치년도</th>\n",
       "      <th>시도</th>\n",
       "      <th>군구</th>\n",
       "      <th>주소</th>\n",
       "      <th>충전소명</th>\n",
       "      <th>시설구분(대)</th>\n",
       "      <th>시설구분(소)</th>\n",
       "      <th>기종(대)</th>\n",
       "      <th>기종(소)</th>\n",
       "      <th>운영기관(대)</th>\n",
       "      <th>운영기관(소)</th>\n",
       "      <th>급속충전량</th>\n",
       "      <th>충전기타입</th>\n",
       "      <th>이용자제한</th>\n",
       "      <th>충전기ID</th>\n",
       "      <th>충전소ID</th>\n",
       "      <th>위도경도</th>\n",
       "      <th>위도</th>\n",
       "      <th>경도</th>\n",
       "    </tr>\n",
       "  </thead>\n",
       "  <tbody>\n",
       "    <tr>\n",
       "      <th>0</th>\n",
       "      <td>2017</td>\n",
       "      <td>서울특별시</td>\n",
       "      <td>강동구</td>\n",
       "      <td>서울특별시 강동구 고덕로28길 36</td>\n",
       "      <td>암사1동 공영주차장</td>\n",
       "      <td>주차시설</td>\n",
       "      <td>공영주차장</td>\n",
       "      <td>급속</td>\n",
       "      <td>급속(50kW)</td>\n",
       "      <td>환경부</td>\n",
       "      <td>환경부(협회)</td>\n",
       "      <td>급속(50kW)</td>\n",
       "      <td>DC차데모+AC3상+DC콤보</td>\n",
       "      <td>이용가능</td>\n",
       "      <td>1</td>\n",
       "      <td>ME174003</td>\n",
       "      <td>37.5529087,127.1372547</td>\n",
       "      <td>37.552909</td>\n",
       "      <td>127.137255</td>\n",
       "    </tr>\n",
       "  </tbody>\n",
       "</table>\n",
       "</div>"
      ],
      "text/plain": [
       "   설치년도     시도   군구                   주소        충전소명 시설구분(대) 시설구분(소) 기종(대)  \\\n",
       "0  2017  서울특별시  강동구  서울특별시 강동구 고덕로28길 36  암사1동 공영주차장    주차시설   공영주차장    급속   \n",
       "\n",
       "      기종(소) 운영기관(대)  운영기관(소)     급속충전량            충전기타입 이용자제한  충전기ID  \\\n",
       "0  급속(50kW)     환경부  환경부(협회)  급속(50kW)  DC차데모+AC3상+DC콤보  이용가능      1   \n",
       "\n",
       "      충전소ID                    위도경도         위도          경도  \n",
       "0  ME174003  37.5529087,127.1372547  37.552909  127.137255  "
      ]
     },
     "execution_count": 4,
     "metadata": {},
     "output_type": "execute_result"
    }
   ],
   "source": [
    "charge_info_df[\"위도\"] = charge_info_df[\"위도경도\"].str.split(\",\").str[0].astype(float)\n",
    "charge_info_df[\"경도\"] = charge_info_df[\"위도경도\"].str.split(\",\").str[1].astype(float)\n",
    "charge_info_df.head(1)"
   ]
  },
  {
   "cell_type": "markdown",
   "id": "320e747d-8673-4d20-85a8-2da29c607879",
   "metadata": {},
   "source": [
    "이제 충전소ID 칼럼을 기준으로 충전기 충전량 데이터와 충전소 정보 데이터를 합쳐줍니다."
   ]
  },
  {
   "cell_type": "code",
   "execution_count": 5,
   "id": "a107f9af-2f2d-4479-8b08-92242f25b0eb",
   "metadata": {},
   "outputs": [
    {
     "data": {
      "text/html": [
       "<div>\n",
       "<style scoped>\n",
       "    .dataframe tbody tr th:only-of-type {\n",
       "        vertical-align: middle;\n",
       "    }\n",
       "\n",
       "    .dataframe tbody tr th {\n",
       "        vertical-align: top;\n",
       "    }\n",
       "\n",
       "    .dataframe thead th {\n",
       "        text-align: right;\n",
       "    }\n",
       "</style>\n",
       "<table border=\"1\" class=\"dataframe\">\n",
       "  <thead>\n",
       "    <tr style=\"text-align: right;\">\n",
       "      <th></th>\n",
       "      <th>설치년도</th>\n",
       "      <th>시도</th>\n",
       "      <th>군구</th>\n",
       "      <th>주소</th>\n",
       "      <th>충전소명</th>\n",
       "      <th>시설구분(대)</th>\n",
       "      <th>시설구분(소)</th>\n",
       "      <th>기종(대)</th>\n",
       "      <th>기종(소)</th>\n",
       "      <th>운영기관(대)</th>\n",
       "      <th>...</th>\n",
       "      <th>2023년 05월 충전횟수</th>\n",
       "      <th>2023년 05월 충전량</th>\n",
       "      <th>2023년 06월 충전횟수</th>\n",
       "      <th>2023년 06월 충전량</th>\n",
       "      <th>2023년 07월 충전횟수</th>\n",
       "      <th>2023년 07월 충전량</th>\n",
       "      <th>2023년 08월 충전횟수</th>\n",
       "      <th>2023년 08월 충전량</th>\n",
       "      <th>2023년 09월 충전횟수</th>\n",
       "      <th>2023년 09월 충전량</th>\n",
       "    </tr>\n",
       "  </thead>\n",
       "  <tbody>\n",
       "    <tr>\n",
       "      <th>0</th>\n",
       "      <td>2017</td>\n",
       "      <td>서울특별시</td>\n",
       "      <td>강동구</td>\n",
       "      <td>서울특별시 강동구 고덕로28길 36</td>\n",
       "      <td>암사1동 공영주차장</td>\n",
       "      <td>주차시설</td>\n",
       "      <td>공영주차장</td>\n",
       "      <td>급속</td>\n",
       "      <td>급속(50kW)</td>\n",
       "      <td>환경부</td>\n",
       "      <td>...</td>\n",
       "      <td>180</td>\n",
       "      <td>3396.71</td>\n",
       "      <td>181</td>\n",
       "      <td>3549.98</td>\n",
       "      <td>175</td>\n",
       "      <td>3350.6</td>\n",
       "      <td>168</td>\n",
       "      <td>3300.8</td>\n",
       "      <td>136</td>\n",
       "      <td>2719.79</td>\n",
       "    </tr>\n",
       "  </tbody>\n",
       "</table>\n",
       "<p>1 rows × 38 columns</p>\n",
       "</div>"
      ],
      "text/plain": [
       "   설치년도     시도   군구                   주소        충전소명 시설구분(대) 시설구분(소) 기종(대)  \\\n",
       "0  2017  서울특별시  강동구  서울특별시 강동구 고덕로28길 36  암사1동 공영주차장    주차시설   공영주차장    급속   \n",
       "\n",
       "      기종(소) 운영기관(대)  ... 2023년 05월 충전횟수 2023년 05월 충전량 2023년 06월 충전횟수  \\\n",
       "0  급속(50kW)     환경부  ...            180       3396.71            181   \n",
       "\n",
       "  2023년 06월 충전량  2023년 07월 충전횟수 2023년 07월 충전량 2023년 08월 충전횟수  2023년 08월 충전량  \\\n",
       "0       3549.98             175        3350.6            168         3300.8   \n",
       "\n",
       "   2023년 09월 충전횟수  2023년 09월 충전량  \n",
       "0             136        2719.79  \n",
       "\n",
       "[1 rows x 38 columns]"
      ]
     },
     "execution_count": 5,
     "metadata": {},
     "output_type": "execute_result"
    }
   ],
   "source": [
    "merge_df = pd.merge(charge_info_df, charge_amount_df, how=\"inner\", on=\"충전소ID\")\n",
    "merge_df.head(1)"
   ]
  },
  {
   "cell_type": "code",
   "execution_count": 6,
   "id": "c7c9546b-48ad-4a1d-9b2c-e8c8741760ee",
   "metadata": {},
   "outputs": [],
   "source": [
    "for i in range(len(merge_df)):\n",
    "    charge_amount = merge_df.filter(regex='.* 충전량$').loc[i].sum()\n",
    "    charge_count = merge_df.filter(regex='.* 충전횟수$').loc[i].sum()\n",
    "    merge_df.loc[i, \"총충전량\"] = charge_amount\n",
    "    merge_df.loc[i, \"총충전횟수\"] = charge_count"
   ]
  },
  {
   "cell_type": "code",
   "execution_count": 7,
   "id": "67c329bf-5649-4a7e-94da-ebab764a7fe0",
   "metadata": {},
   "outputs": [
    {
     "data": {
      "text/html": [
       "<div>\n",
       "<style scoped>\n",
       "    .dataframe tbody tr th:only-of-type {\n",
       "        vertical-align: middle;\n",
       "    }\n",
       "\n",
       "    .dataframe tbody tr th {\n",
       "        vertical-align: top;\n",
       "    }\n",
       "\n",
       "    .dataframe thead th {\n",
       "        text-align: right;\n",
       "    }\n",
       "</style>\n",
       "<table border=\"1\" class=\"dataframe\">\n",
       "  <thead>\n",
       "    <tr style=\"text-align: right;\">\n",
       "      <th></th>\n",
       "      <th>설치년도</th>\n",
       "      <th>시도</th>\n",
       "      <th>군구</th>\n",
       "      <th>주소</th>\n",
       "      <th>충전소명</th>\n",
       "      <th>시설구분(대)</th>\n",
       "      <th>시설구분(소)</th>\n",
       "      <th>기종(대)</th>\n",
       "      <th>기종(소)</th>\n",
       "      <th>운영기관(대)</th>\n",
       "      <th>...</th>\n",
       "      <th>2023년 06월 충전횟수</th>\n",
       "      <th>2023년 06월 충전량</th>\n",
       "      <th>2023년 07월 충전횟수</th>\n",
       "      <th>2023년 07월 충전량</th>\n",
       "      <th>2023년 08월 충전횟수</th>\n",
       "      <th>2023년 08월 충전량</th>\n",
       "      <th>2023년 09월 충전횟수</th>\n",
       "      <th>2023년 09월 충전량</th>\n",
       "      <th>총충전량</th>\n",
       "      <th>총충전횟수</th>\n",
       "    </tr>\n",
       "  </thead>\n",
       "  <tbody>\n",
       "    <tr>\n",
       "      <th>0</th>\n",
       "      <td>2017</td>\n",
       "      <td>서울특별시</td>\n",
       "      <td>강동구</td>\n",
       "      <td>서울특별시 강동구 고덕로28길 36</td>\n",
       "      <td>암사1동 공영주차장</td>\n",
       "      <td>주차시설</td>\n",
       "      <td>공영주차장</td>\n",
       "      <td>급속</td>\n",
       "      <td>급속(50kW)</td>\n",
       "      <td>환경부</td>\n",
       "      <td>...</td>\n",
       "      <td>181</td>\n",
       "      <td>3549.98</td>\n",
       "      <td>175</td>\n",
       "      <td>3350.6</td>\n",
       "      <td>168</td>\n",
       "      <td>3300.8</td>\n",
       "      <td>136</td>\n",
       "      <td>2719.79</td>\n",
       "      <td>33244.11</td>\n",
       "      <td>1733.0</td>\n",
       "    </tr>\n",
       "  </tbody>\n",
       "</table>\n",
       "<p>1 rows × 40 columns</p>\n",
       "</div>"
      ],
      "text/plain": [
       "   설치년도     시도   군구                   주소        충전소명 시설구분(대) 시설구분(소) 기종(대)  \\\n",
       "0  2017  서울특별시  강동구  서울특별시 강동구 고덕로28길 36  암사1동 공영주차장    주차시설   공영주차장    급속   \n",
       "\n",
       "      기종(소) 운영기관(대)  ... 2023년 06월 충전횟수 2023년 06월 충전량 2023년 07월 충전횟수  \\\n",
       "0  급속(50kW)     환경부  ...            181       3549.98            175   \n",
       "\n",
       "  2023년 07월 충전량  2023년 08월 충전횟수 2023년 08월 충전량 2023년 09월 충전횟수  2023년 09월 충전량  \\\n",
       "0        3350.6             168        3300.8            136        2719.79   \n",
       "\n",
       "       총충전량   총충전횟수  \n",
       "0  33244.11  1733.0  \n",
       "\n",
       "[1 rows x 40 columns]"
      ]
     },
     "execution_count": 7,
     "metadata": {},
     "output_type": "execute_result"
    }
   ],
   "source": [
    "merge_df.head(1)"
   ]
  },
  {
   "cell_type": "code",
   "execution_count": 8,
   "id": "918854fb-648f-4b9a-9185-cb96c9876e02",
   "metadata": {},
   "outputs": [
    {
     "name": "stdout",
     "output_type": "stream",
     "text": [
      "<class 'pandas.core.frame.DataFrame'>\n",
      "RangeIndex: 2090 entries, 0 to 2089\n",
      "Data columns (total 40 columns):\n",
      " #   Column          Non-Null Count  Dtype  \n",
      "---  ------          --------------  -----  \n",
      " 0   설치년도            2090 non-null   int64  \n",
      " 1   시도              2090 non-null   object \n",
      " 2   군구              2090 non-null   object \n",
      " 3   주소              2090 non-null   object \n",
      " 4   충전소명            2090 non-null   object \n",
      " 5   시설구분(대)         2090 non-null   object \n",
      " 6   시설구분(소)         2090 non-null   object \n",
      " 7   기종(대)           2090 non-null   object \n",
      " 8   기종(소)           2090 non-null   object \n",
      " 9   운영기관(대)         2090 non-null   object \n",
      " 10  운영기관(소)         2090 non-null   object \n",
      " 11  급속충전량           2090 non-null   object \n",
      " 12  충전기타입           2090 non-null   object \n",
      " 13  이용자제한           2090 non-null   object \n",
      " 14  충전기ID_x         2090 non-null   int64  \n",
      " 15  충전소ID           2090 non-null   object \n",
      " 16  위도경도            2090 non-null   object \n",
      " 17  위도              2090 non-null   float64\n",
      " 18  경도              2090 non-null   float64\n",
      " 19  충전기ID_y         2090 non-null   int64  \n",
      " 20  2023년 01월 충전횟수  2090 non-null   int64  \n",
      " 21  2023년 01월 충전량   2090 non-null   float64\n",
      " 22  2023년 02월 충전횟수  2090 non-null   int64  \n",
      " 23  2023년 02월 충전량   2090 non-null   float64\n",
      " 24  2023년 03월 충전횟수  2090 non-null   int64  \n",
      " 25  2023년 03월 충전량   2090 non-null   float64\n",
      " 26  2023년 04월 충전횟수  2090 non-null   int64  \n",
      " 27  2023년 04월 충전량   2090 non-null   float64\n",
      " 28  2023년 05월 충전횟수  2090 non-null   int64  \n",
      " 29  2023년 05월 충전량   2090 non-null   float64\n",
      " 30  2023년 06월 충전횟수  2090 non-null   int64  \n",
      " 31  2023년 06월 충전량   2090 non-null   float64\n",
      " 32  2023년 07월 충전횟수  2090 non-null   int64  \n",
      " 33  2023년 07월 충전량   2090 non-null   float64\n",
      " 34  2023년 08월 충전횟수  2090 non-null   int64  \n",
      " 35  2023년 08월 충전량   2090 non-null   float64\n",
      " 36  2023년 09월 충전횟수  2090 non-null   int64  \n",
      " 37  2023년 09월 충전량   2090 non-null   float64\n",
      " 38  총충전량            2090 non-null   float64\n",
      " 39  총충전횟수           2090 non-null   float64\n",
      "dtypes: float64(13), int64(12), object(15)\n",
      "memory usage: 653.3+ KB\n"
     ]
    }
   ],
   "source": [
    "merge_df.info()"
   ]
  },
  {
   "cell_type": "markdown",
   "id": "5b42d988-db00-4b71-b8f2-7ffe17bb3497",
   "metadata": {},
   "source": [
    "### **2-2. 데이터셋에 사용할 특성만 추출**"
   ]
  },
  {
   "cell_type": "code",
   "execution_count": 9,
   "id": "d8c57a07-e334-459b-8404-a80493ade3d8",
   "metadata": {},
   "outputs": [],
   "source": [
    "dataset = merge_df[[\n",
    "    \"급속충전량\", \n",
    "    \"충전기타입\", \n",
    "    \"이용자제한\", \n",
    "    \"시설구분(소)\", \n",
    "    \"운영기관(소)\", \n",
    "    \"위도\", \n",
    "    \"경도\", \n",
    "    \"총충전량\",\n",
    "    \"총충전횟수\"\n",
    "]]"
   ]
  },
  {
   "cell_type": "markdown",
   "id": "10bde172-7e7e-4152-894c-b17e05cdd77a",
   "metadata": {},
   "source": [
    "### **2-3. 범주형 데이터에 대한 원-핫 인코딩**"
   ]
  },
  {
   "cell_type": "code",
   "execution_count": 10,
   "id": "69e7b7f3-308d-43c6-83de-c550acf952d1",
   "metadata": {},
   "outputs": [
    {
     "data": {
      "text/html": [
       "<div>\n",
       "<style scoped>\n",
       "    .dataframe tbody tr th:only-of-type {\n",
       "        vertical-align: middle;\n",
       "    }\n",
       "\n",
       "    .dataframe tbody tr th {\n",
       "        vertical-align: top;\n",
       "    }\n",
       "\n",
       "    .dataframe thead th {\n",
       "        text-align: right;\n",
       "    }\n",
       "</style>\n",
       "<table border=\"1\" class=\"dataframe\">\n",
       "  <thead>\n",
       "    <tr style=\"text-align: right;\">\n",
       "      <th></th>\n",
       "      <th>위도</th>\n",
       "      <th>경도</th>\n",
       "      <th>총충전량</th>\n",
       "      <th>총충전횟수</th>\n",
       "      <th>급속충전량_급속(100kW단독)</th>\n",
       "      <th>급속충전량_급속(100kW동시)</th>\n",
       "      <th>급속충전량_급속(100kW멀티)</th>\n",
       "      <th>급속충전량_급속(200kW동시)</th>\n",
       "      <th>급속충전량_급속(400kW동시)</th>\n",
       "      <th>급속충전량_급속(50kW)</th>\n",
       "      <th>...</th>\n",
       "      <th>시설구분(소)_서비스센터</th>\n",
       "      <th>시설구분(소)_숙박시설</th>\n",
       "      <th>시설구분(소)_일반주차장</th>\n",
       "      <th>시설구분(소)_전시관</th>\n",
       "      <th>시설구분(소)_주민센터</th>\n",
       "      <th>시설구분(소)_지자체시설</th>\n",
       "      <th>시설구분(소)_학교</th>\n",
       "      <th>시설구분(소)_홍보관</th>\n",
       "      <th>시설구분(소)_환승주차장</th>\n",
       "      <th>운영기관(소)_환경부(협회)</th>\n",
       "    </tr>\n",
       "  </thead>\n",
       "  <tbody>\n",
       "    <tr>\n",
       "      <th>0</th>\n",
       "      <td>37.552909</td>\n",
       "      <td>127.137255</td>\n",
       "      <td>33244.11</td>\n",
       "      <td>1733.0</td>\n",
       "      <td>False</td>\n",
       "      <td>False</td>\n",
       "      <td>False</td>\n",
       "      <td>False</td>\n",
       "      <td>False</td>\n",
       "      <td>True</td>\n",
       "      <td>...</td>\n",
       "      <td>False</td>\n",
       "      <td>False</td>\n",
       "      <td>False</td>\n",
       "      <td>False</td>\n",
       "      <td>False</td>\n",
       "      <td>False</td>\n",
       "      <td>False</td>\n",
       "      <td>False</td>\n",
       "      <td>False</td>\n",
       "      <td>True</td>\n",
       "    </tr>\n",
       "    <tr>\n",
       "      <th>1</th>\n",
       "      <td>37.544812</td>\n",
       "      <td>127.121840</td>\n",
       "      <td>32004.17</td>\n",
       "      <td>1758.0</td>\n",
       "      <td>False</td>\n",
       "      <td>False</td>\n",
       "      <td>False</td>\n",
       "      <td>False</td>\n",
       "      <td>False</td>\n",
       "      <td>True</td>\n",
       "      <td>...</td>\n",
       "      <td>False</td>\n",
       "      <td>False</td>\n",
       "      <td>False</td>\n",
       "      <td>False</td>\n",
       "      <td>False</td>\n",
       "      <td>False</td>\n",
       "      <td>False</td>\n",
       "      <td>False</td>\n",
       "      <td>False</td>\n",
       "      <td>True</td>\n",
       "    </tr>\n",
       "    <tr>\n",
       "      <th>2</th>\n",
       "      <td>37.538795</td>\n",
       "      <td>127.133399</td>\n",
       "      <td>19134.38</td>\n",
       "      <td>993.0</td>\n",
       "      <td>False</td>\n",
       "      <td>False</td>\n",
       "      <td>False</td>\n",
       "      <td>False</td>\n",
       "      <td>False</td>\n",
       "      <td>True</td>\n",
       "      <td>...</td>\n",
       "      <td>False</td>\n",
       "      <td>False</td>\n",
       "      <td>False</td>\n",
       "      <td>False</td>\n",
       "      <td>False</td>\n",
       "      <td>False</td>\n",
       "      <td>False</td>\n",
       "      <td>False</td>\n",
       "      <td>False</td>\n",
       "      <td>True</td>\n",
       "    </tr>\n",
       "    <tr>\n",
       "      <th>3</th>\n",
       "      <td>37.537263</td>\n",
       "      <td>126.838379</td>\n",
       "      <td>16962.38</td>\n",
       "      <td>761.0</td>\n",
       "      <td>False</td>\n",
       "      <td>False</td>\n",
       "      <td>False</td>\n",
       "      <td>False</td>\n",
       "      <td>False</td>\n",
       "      <td>True</td>\n",
       "      <td>...</td>\n",
       "      <td>False</td>\n",
       "      <td>False</td>\n",
       "      <td>False</td>\n",
       "      <td>False</td>\n",
       "      <td>False</td>\n",
       "      <td>False</td>\n",
       "      <td>False</td>\n",
       "      <td>False</td>\n",
       "      <td>False</td>\n",
       "      <td>True</td>\n",
       "    </tr>\n",
       "    <tr>\n",
       "      <th>4</th>\n",
       "      <td>37.528956</td>\n",
       "      <td>126.849089</td>\n",
       "      <td>37188.74</td>\n",
       "      <td>1923.0</td>\n",
       "      <td>False</td>\n",
       "      <td>False</td>\n",
       "      <td>False</td>\n",
       "      <td>False</td>\n",
       "      <td>False</td>\n",
       "      <td>True</td>\n",
       "      <td>...</td>\n",
       "      <td>False</td>\n",
       "      <td>False</td>\n",
       "      <td>False</td>\n",
       "      <td>False</td>\n",
       "      <td>False</td>\n",
       "      <td>False</td>\n",
       "      <td>False</td>\n",
       "      <td>False</td>\n",
       "      <td>False</td>\n",
       "      <td>True</td>\n",
       "    </tr>\n",
       "  </tbody>\n",
       "</table>\n",
       "<p>5 rows × 47 columns</p>\n",
       "</div>"
      ],
      "text/plain": [
       "          위도          경도      총충전량   총충전횟수  급속충전량_급속(100kW단독)  \\\n",
       "0  37.552909  127.137255  33244.11  1733.0              False   \n",
       "1  37.544812  127.121840  32004.17  1758.0              False   \n",
       "2  37.538795  127.133399  19134.38   993.0              False   \n",
       "3  37.537263  126.838379  16962.38   761.0              False   \n",
       "4  37.528956  126.849089  37188.74  1923.0              False   \n",
       "\n",
       "   급속충전량_급속(100kW동시)  급속충전량_급속(100kW멀티)  급속충전량_급속(200kW동시)  급속충전량_급속(400kW동시)  \\\n",
       "0              False              False              False              False   \n",
       "1              False              False              False              False   \n",
       "2              False              False              False              False   \n",
       "3              False              False              False              False   \n",
       "4              False              False              False              False   \n",
       "\n",
       "   급속충전량_급속(50kW)  ...  시설구분(소)_서비스센터  시설구분(소)_숙박시설  시설구분(소)_일반주차장  \\\n",
       "0            True  ...          False         False          False   \n",
       "1            True  ...          False         False          False   \n",
       "2            True  ...          False         False          False   \n",
       "3            True  ...          False         False          False   \n",
       "4            True  ...          False         False          False   \n",
       "\n",
       "   시설구분(소)_전시관  시설구분(소)_주민센터  시설구분(소)_지자체시설  시설구분(소)_학교  시설구분(소)_홍보관  \\\n",
       "0        False         False          False       False        False   \n",
       "1        False         False          False       False        False   \n",
       "2        False         False          False       False        False   \n",
       "3        False         False          False       False        False   \n",
       "4        False         False          False       False        False   \n",
       "\n",
       "   시설구분(소)_환승주차장  운영기관(소)_환경부(협회)  \n",
       "0          False             True  \n",
       "1          False             True  \n",
       "2          False             True  \n",
       "3          False             True  \n",
       "4          False             True  \n",
       "\n",
       "[5 rows x 47 columns]"
      ]
     },
     "execution_count": 10,
     "metadata": {},
     "output_type": "execute_result"
    }
   ],
   "source": [
    "ohe_dataset = pd.get_dummies(data=dataset, columns=[\"급속충전량\", \"충전기타입\", \"이용자제한\", \"시설구분(소)\", \"운영기관(소)\"])\n",
    "ohe_dataset.head()"
   ]
  },
  {
   "cell_type": "markdown",
   "id": "391dc98e-a325-4adf-a4bd-f3c52cd3cab1",
   "metadata": {},
   "source": []
  },
  {
   "cell_type": "code",
   "execution_count": 13,
   "id": "3f623896-ba36-4f3b-975b-7962f0e25387",
   "metadata": {},
   "outputs": [],
   "source": [
    "from sklearn.preprocessing import LabelEncoder\n",
    "\n",
    "# LabelEncoder 객체 생성\n",
    "# le = LabelEncoder()\n",
    "\n",
    "X = ohe_dataset\n",
    "# y = ohe_dataset[\"총충전량\"]\n",
    "\n",
    "# '총충전량' 열에 대해 Label Encoding 적용\n",
    "# X[\"총충전량\"] = le.fit_transform(X[\"총충전량\"])\n",
    "# y = le.transform(y)"
   ]
  },
  {
   "cell_type": "code",
   "execution_count": 14,
   "id": "7cb1cb73-0016-40a3-bb4b-05bcd9123d26",
   "metadata": {},
   "outputs": [
    {
     "data": {
      "text/plain": [
       "Index(['위도', '경도', '총충전량', '총충전횟수', '급속충전량_급속(100kW단독)', '급속충전량_급속(100kW동시)',\n",
       "       '급속충전량_급속(100kW멀티)', '급속충전량_급속(200kW동시)', '급속충전량_급속(400kW동시)',\n",
       "       '급속충전량_급속(50kW)', '급속충전량_완속(30kW단독)', '급속충전량_초급속(350kW단독)',\n",
       "       '충전기타입_DC차데모+AC3상+DC콤보', '충전기타입_DC차데모+DC콤보', '충전기타입_DC콤보',\n",
       "       '충전기타입_DC콤보(완속)', '이용자제한_이용가능', '이용자제한_이용자제한', '시설구분(소)_경찰서',\n",
       "       '시설구분(소)_고속도로 휴게소', '시설구분(소)_공공기관', '시설구분(소)_공영주차장', '시설구분(소)_공원',\n",
       "       '시설구분(소)_공원주차장', '시설구분(소)_공중전화부스', '시설구분(소)_관공서', '시설구분(소)_관광안내소',\n",
       "       '시설구분(소)_관광지', '시설구분(소)_관람장', '시설구분(소)_금융기관', '시설구분(소)_도서관',\n",
       "       '시설구분(소)_마트(쇼핑몰)', '시설구분(소)_박물관', '시설구분(소)_백화점', '시설구분(소)_병원',\n",
       "       '시설구분(소)_복지관', '시설구분(소)_사업장(사옥)', '시설구분(소)_서비스센터', '시설구분(소)_숙박시설',\n",
       "       '시설구분(소)_일반주차장', '시설구분(소)_전시관', '시설구분(소)_주민센터', '시설구분(소)_지자체시설',\n",
       "       '시설구분(소)_학교', '시설구분(소)_홍보관', '시설구분(소)_환승주차장', '운영기관(소)_환경부(협회)'],\n",
       "      dtype='object')"
      ]
     },
     "execution_count": 14,
     "metadata": {},
     "output_type": "execute_result"
    }
   ],
   "source": [
    "X.columns"
   ]
  },
  {
   "cell_type": "markdown",
   "id": "02972f5a-fb13-41b2-8612-b2eb1fdefbf1",
   "metadata": {},
   "source": [
    "## **K-평균 클러스터링 알고리즘을 사용해 데이터 클러스터링**"
   ]
  },
  {
   "cell_type": "code",
   "execution_count": 15,
   "id": "68bef69e-a322-4175-8aec-4a67c16756a1",
   "metadata": {},
   "outputs": [
    {
     "data": {
      "text/plain": [
       "array([1, 1, 2, ..., 0, 0, 0], dtype=int32)"
      ]
     },
     "execution_count": 15,
     "metadata": {},
     "output_type": "execute_result"
    }
   ],
   "source": [
    "# KMeans 클러스터링 알고리즘 임포트\n",
    "from sklearn.cluster import KMeans\n",
    "\n",
    "# 클러스터 수와 랜덤 시드 설정\n",
    "nclusters = 3\n",
    "seed = 0\n",
    "\n",
    "# KMeans 모델 생성 및 훈련\n",
    "km = KMeans(n_clusters=nclusters, random_state=seed)\n",
    "km.fit(X)\n",
    "\n",
    "# 각 데이터 포인트의 클러스터 예측\n",
    "y_cluster_kmeans = km.predict(X)\n",
    "y_cluster_kmeans"
   ]
  },
  {
   "cell_type": "code",
   "execution_count": 16,
   "id": "36e9dbb9-8ca0-47fa-b726-f047c422da1f",
   "metadata": {},
   "outputs": [
    {
     "data": {
      "text/plain": [
       "0.8247699797018119"
      ]
     },
     "execution_count": 16,
     "metadata": {},
     "output_type": "execute_result"
    }
   ],
   "source": [
    "# sklearn.metrics 모듈 임포트\n",
    "from sklearn import metrics\n",
    "\n",
    "# Silhouette Score 계산\n",
    "score = metrics.silhouette_score(X, y_cluster_kmeans)\n",
    "score"
   ]
  },
  {
   "cell_type": "markdown",
   "id": "a20db875-029c-4d1b-9e00-6e52d151fced",
   "metadata": {},
   "source": [
    "## **엘보우 방법을 사용해 최적의 클러스터 수 결정**"
   ]
  },
  {
   "cell_type": "code",
   "execution_count": 19,
   "id": "3fcd852c-b360-419c-a871-425883086d1f",
   "metadata": {},
   "outputs": [],
   "source": [
    "from sklearn.cluster import KMeans\n",
    "import matplotlib.pyplot as plt\n",
    "wcss = []\n",
    "\n",
    "for i in range(1, 11):\n",
    "    kmeans = KMeans(n_clusters = i, init = 'k-means++', random_state = 42)\n",
    "    kmeans.fit(X)\n",
    "    wcss.append(kmeans.inertia_)"
   ]
  },
  {
   "cell_type": "code",
   "execution_count": 20,
   "id": "16cc1d49-b78a-4499-9753-001028ad138d",
   "metadata": {},
   "outputs": [
    {
     "data": {
      "image/png": "[encoded data removed]",
      "text/plain": [
       "<Figure size 1000x500 with 1 Axes>"
      ]
     },
     "metadata": {},
     "output_type": "display_data"
    }
   ],
   "source": [
    "import seaborn as sns\n",
    "\n",
    "plt.figure(figsize=(10,5))\n",
    "sns.lineplot(data=(range(1, 11), wcss), marker='o', color='red')\n",
    "plt.title('Elbow')\n",
    "plt.xlabel('Number of clusters')\n",
    "plt.ylabel('WCSS')\n",
    "plt.show()"
   ]
  },
  {
   "cell_type": "markdown",
   "id": "ba616f1d-0e14-47d6-be6d-96aa8bd90a1a",
   "metadata": {},
   "source": [
    "## **결정된 k 값으로 클러스터링 수정**"
   ]
  },
  {
   "cell_type": "code",
   "execution_count": 28,
   "id": "b9aab5a9-e02a-4a44-907b-92fb9d17dc3a",
   "metadata": {},
   "outputs": [
    {
     "name": "stdout",
     "output_type": "stream",
     "text": [
      "0.8247699797018119\n"
     ]
    },
    {
     "data": {
      "image/png": "[encoded data removed]",
      "text/plain": [
       "<Figure size 640x480 with 1 Axes>"
      ]
     },
     "metadata": {},
     "output_type": "display_data"
    }
   ],
   "source": [
    "# KMeans 클러스터링 알고리즘 임포트\n",
    "from sklearn.cluster import KMeans\n",
    "\n",
    "\n",
    "# KMeans 모델 생성 및 훈련\n",
    "kmeans = KMeans(n_clusters=3)\n",
    "kmeans.fit(X)\n",
    "\n",
    "# 각 데이터 포인트의 클러스터 레이블 예측\n",
    "labels = kmeans.predict(X)\n",
    "\n",
    "# Silhouette Score 계산\n",
    "score = metrics.silhouette_score(X, labels)\n",
    "print(score)\n",
    "\n",
    "# Scatter plot 그리기\n",
    "plt.scatter(X['총충전량'], X['총충전횟수'], c=labels)\n",
    "\n",
    "# x축 및 y축 라벨 설정\n",
    "plt.xlabel(\"total charge amount\")\n",
    "plt.ylabel(\"total charge count\")\n",
    "\n",
    "# 그래프 출력\n",
    "plt.show()"
   ]
  },
  {
   "cell_type": "code",
   "execution_count": 25,
   "id": "b333104d-b1d3-49ec-b2be-88daae713047",
   "metadata": {},
   "outputs": [
    {
     "data": {
      "image/png": "[encoded data removed]",
      "text/plain": [
       "<Figure size 640x480 with 1 Axes>"
      ]
     },
     "metadata": {},
     "output_type": "display_data"
    }
   ],
   "source": [
    "# Scatter plot 그리기\n",
    "plt.scatter(X['위도'], X['경도'], c=labels)\n",
    "\n",
    "# x축 및 y축 라벨 설정\n",
    "plt.xlabel(\"latitude\")\n",
    "plt.ylabel(\"longitude\")\n",
    "\n",
    "# 그래프 출력\n",
    "plt.show()"
   ]
  },
  {
   "cell_type": "code",
   "execution_count": 23,
   "id": "a26027e3-d50a-47cc-9e5e-8112ff18b212",
   "metadata": {},
   "outputs": [
    {
     "data": {
      "text/plain": [
       "array([[ 3.75370452e+01,  1.26973307e+02,  6.25175761e+02,\n",
       "         3.21766645e+01,  1.77982861e-01,  2.17534608e-02,\n",
       "         1.31839156e-03,  1.31839156e-02, -4.68375339e-17,\n",
       "         1.05471325e-02,  7.59393540e-01,  1.58206987e-02,\n",
       "         1.64798945e-02,  2.63678312e-03,  2.21489782e-01,\n",
       "         7.59393540e-01,  9.99340804e-01,  6.59195781e-04,\n",
       "         8.56954515e-03, -5.85469173e-18,  5.47132498e-02,\n",
       "         1.38431114e-02,  1.73472348e-18, -1.46367293e-18,\n",
       "        -2.92734587e-18, -4.68375339e-17, -2.92734587e-18,\n",
       "        -1.46367293e-18,  8.78048780e-01,  2.63678312e-03,\n",
       "         1.05471325e-02,  1.91166777e-02, -5.85469173e-18,\n",
       "        -1.04083409e-17,  5.85469173e-18, -1.46367293e-18,\n",
       "         6.59195781e-04, -1.46367293e-18,  1.31839156e-03,\n",
       "         0.00000000e+00, -1.46367293e-18,  1.31839156e-03,\n",
       "         4.61437047e-03,  1.97758734e-03, -5.85469173e-18,\n",
       "         2.63678312e-03,  1.00000000e+00],\n",
       "       [ 3.75465180e+01,  1.26995367e+02,  2.11014140e+04,\n",
       "         1.06733708e+03,  4.66292135e-01,  5.05617978e-02,\n",
       "         5.61797753e-02,  2.30337079e-01,  4.49438202e-02,\n",
       "         1.51685393e-01,  3.33066907e-16, -1.21430643e-17,\n",
       "         2.19101124e-01,  5.61797753e-03,  7.75280899e-01,\n",
       "         3.33066907e-16,  1.00000000e+00,  8.13151629e-19,\n",
       "         1.40449438e-02,  3.25260652e-18,  1.32022472e-01,\n",
       "         4.49438202e-01,  1.68539326e-02,  8.13151629e-19,\n",
       "         5.61797753e-03,  1.40449438e-02,  5.61797753e-03,\n",
       "         2.80898876e-03, -1.22124533e-15,  3.25260652e-18,\n",
       "         1.21430643e-17,  1.68539326e-01,  5.61797753e-03,\n",
       "         1.68539326e-02,  8.42696629e-03,  2.80898876e-03,\n",
       "         1.12359551e-02,  2.80898876e-03,  5.61797753e-03,\n",
       "         1.12359551e-02,  2.80898876e-03,  5.61797753e-03,\n",
       "         8.42696629e-02,  8.42696629e-03,  1.12359551e-02,\n",
       "         1.40449438e-02,  1.00000000e+00],\n",
       "       [ 3.75434354e+01,  1.26993919e+02,  4.21663851e+04,\n",
       "         1.91961290e+03,  4.23963134e-01,  1.38248848e-02,\n",
       "         6.91244240e-02,  3.68663594e-01,  7.37327189e-02,\n",
       "         5.06912442e-02,  2.22044605e-16, -1.04083409e-17,\n",
       "         1.24423963e-01, -2.60208521e-18,  8.75576037e-01,\n",
       "         2.22044605e-16,  1.00000000e+00,  9.21571847e-19,\n",
       "         2.30414747e-02,  1.84331797e-02,  1.10599078e-01,\n",
       "         3.82488479e-01,  9.21658986e-02,  4.60829493e-03,\n",
       "         1.84314369e-18,  1.24423963e-01,  1.84314369e-18,\n",
       "         9.21571847e-19,  3.33066907e-16,  3.68628739e-18,\n",
       "         4.60829493e-03,  1.05990783e-01,  9.21658986e-03,\n",
       "         1.38248848e-02, -1.30104261e-18,  9.21571847e-19,\n",
       "        -2.60208521e-18,  9.21571847e-19,  3.68628739e-18,\n",
       "         4.60829493e-03,  9.21571847e-19,  5.52995392e-02,\n",
       "         5.06912442e-02, -2.60208521e-18,  3.68628739e-18,\n",
       "         1.73472348e-18,  1.00000000e+00]])"
      ]
     },
     "execution_count": 23,
     "metadata": {},
     "output_type": "execute_result"
    }
   ],
   "source": [
    "kmeans.cluster_centers_"
   ]
  },
  {
   "cell_type": "code",
   "execution_count": null,
   "id": "099d9dea-c053-4159-b357-8b97b963dad1",
   "metadata": {},
   "outputs": [],
   "source": [
    "labels = kmeans.labels_\n",
    "\n",
    "correct_labels = sum(y == labels)\n",
    "\n",
    "print(\"Result: %d out of %d samples were correctly labeled.\" % (correct_labels, y.size))\n",
    "\n",
    "print('Accuracy score: {0:0.2f}'. format(correct_labels/float(y.size)))"
   ]
  },
  {
   "cell_type": "code",
   "execution_count": null,
   "id": "b97425c2-972d-48f8-89e9-0d34bba7c7cd",
   "metadata": {},
   "outputs": [],
   "source": [
    "# 결과 분석 및 평가\n",
    "# 클러스터 분석 : \n",
    "# 각 클러스터의 중심점을 분석하고 중심점을 바탕으로 각 클러스터의 특성 설명하기\n",
    "# 클러스터를 시각화해 각 클러스터가 어떻게 구성되어있는지 보여주는 산점도 작성"
   ]
  },
  {
   "cell_type": "code",
   "execution_count": null,
   "id": "b36dae0f-56d1-4d7b-a309-5c54b1cf4b1b",
   "metadata": {},
   "outputs": [],
   "source": [
    "# 평가 : 실루엣 점수를 사용해 클러스터링 효과를 평가 / 실루엣 점수가 클러스터링 결과에 대해 어떤 정보를 제공하는지 설명"
   ]
  },
  {
   "cell_type": "code",
   "execution_count": null,
   "id": "97c2a8ef-a8a6-46cf-b783-777d51ba5cb9",
   "metadata": {},
   "outputs": [],
   "source": []
  }
 ],
 "metadata": {
  "kernelspec": {
   "display_name": "Python 3 (ipykernel)",
   "language": "python",
   "name": "python3"
  },
  "language_info": {
   "codemirror_mode": {
    "name": "ipython",
    "version": 3
   },
   "file_extension": ".py",
   "mimetype": "text/x-python",
   "name": "python",
   "nbconvert_exporter": "python",
   "pygments_lexer": "ipython3",
   "version": "3.11.5"
  }
 },
 "nbformat": 4,
 "nbformat_minor": 5
}
